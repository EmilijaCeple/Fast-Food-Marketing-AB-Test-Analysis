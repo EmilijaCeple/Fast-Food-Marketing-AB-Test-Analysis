{
 "cells": [
  {
   "cell_type": "markdown",
   "id": "ff99885d-6f8c-4874-9b2c-e007b17a68da",
   "metadata": {},
   "source": [
    "# Fast Food Marketing Campaign A\\B Test Analysis"
   ]
  },
  {
   "cell_type": "markdown",
   "id": "a27ab22a-4dd3-439b-8fec-4cceaa678a38",
   "metadata": {},
   "source": [
    "## Description"
   ]
  },
  {
   "cell_type": "markdown",
   "id": "d717feb8-cfc7-49ab-9441-7af46f68df57",
   "metadata": {},
   "source": [
    "Based on the description from this [Kaggle dataset](https://www.kaggle.com/datasets/chebotinaa/fast-food-marketing-campaign-ab-test), a fast-food chain plans to introduce a new menu item but is undecided between three potential marketing campaigns to promote it. To determine which campaign drives the highest sales, the new item is launched in several randomly selected markets, each using a different promotion. Weekly sales data for the new item is then collected over the first four weeks at each location."
   ]
  },
  {
   "cell_type": "markdown",
   "id": "7a4d0587-1b2f-4d4b-a383-76af051d6f87",
   "metadata": {},
   "source": [
    "## Goal of the test"
   ]
  },
  {
   "cell_type": "markdown",
   "id": "4cb17690-6830-4af3-9af5-d96e086d87a8",
   "metadata": {},
   "source": [
    "The main goal of the A/B test is to determine the most effective marketing campaign for driving sales. The company aimed to select the best campaign based on its ability to maximize sales revenue."
   ]
  },
  {
   "cell_type": "markdown",
   "id": "04424ed7-cc0a-4d26-bf99-413a3bbd9902",
   "metadata": {},
   "source": [
    "## Target Metric"
   ]
  },
  {
   "cell_type": "markdown",
   "id": "5845b42c-7833-493b-abdd-4d57597cc436",
   "metadata": {},
   "source": [
    "The \"SalesInThousands\" metric measures the revenue per location and week in thousands. As a result, sales will serve as my target metric, summed by location, to evaluate the performance of each promotion."
   ]
  },
  {
   "cell_type": "markdown",
   "id": "b16ca137-3849-4adf-99c7-6bff8e2c8ea1",
   "metadata": {},
   "source": [
    "## Calculations"
   ]
  },
  {
   "cell_type": "markdown",
   "id": "c3910051-c2cc-4789-8c57-4fa33baf2a6a",
   "metadata": {},
   "source": [
    "- Promotion: three different promotions are applied to test their effectiveness.\n",
    "- Sample size: the \"LocationID\" is used as the sample size for the analysis.\n",
    "- Mean and Standard deviation: the target \"SalesInThousands\" metric is used to calculate the mean and standard deviation for each promotion."
   ]
  },
  {
   "cell_type": "markdown",
   "id": "bb7be268-1fa2-46e0-ab20-5ac2f4556b73",
   "metadata": {},
   "source": [
    "![](CalculationsSQL.jpg)"
   ]
  },
  {
   "cell_type": "markdown",
   "id": "e7028a6c-0ca0-445d-a984-b12897e46996",
   "metadata": {},
   "source": [
    "I will apply the t-test to determine whether the differences in average sales between campaigns are statistically significant. Since I'm testing three hypotheses instead of just one, this increases the risk of false positives. To account for this, I will use a confidence level of 99% (or an alpha of 0.01) to reduce the likelihood of Type I errors."
   ]
  },
  {
   "cell_type": "markdown",
   "id": "1d074281-f69d-4db1-801c-d553307b6652",
   "metadata": {},
   "source": [
    "For the calculations I will use the [Two-Sample T-Test](https://www.evanmiller.org/ab-testing/t-test.html) calculator."
   ]
  },
  {
   "cell_type": "markdown",
   "id": "ae5e0465-bd77-4e08-aa36-5925cfeadcd1",
   "metadata": {},
   "source": [
    "### Promotions 1 vs 2"
   ]
  },
  {
   "cell_type": "markdown",
   "id": "993c9282-a28e-42c3-a4da-32807702457e",
   "metadata": {},
   "source": [
    "![](1vs2.jpg)"
   ]
  },
  {
   "cell_type": "markdown",
   "id": "bb28ccfd-6907-407f-91f7-f84ea321cf01",
   "metadata": {},
   "source": [
    "The difference between Promotions 1 and 2 is statistically significant. Promotion 1 outperformed Promotion 2, with a difference of means of 43 thousand dollars. In other words, over the course of the test, Promotion 1 generated an estimated 43 thousand dollars more in sales compared to Promotion 2."
   ]
  },
  {
   "cell_type": "markdown",
   "id": "043f25bc-7ad2-4d24-a5fa-64e6eced09f1",
   "metadata": {},
   "source": [
    "### Promotions 1 vs 3"
   ]
  },
  {
   "cell_type": "markdown",
   "id": "879cc9a2-dd18-458f-aa46-e0f421489eb4",
   "metadata": {},
   "source": [
    "![](1vs3.jpg)"
   ]
  },
  {
   "cell_type": "markdown",
   "id": "c84f2355-7712-4f6f-b3e0-1fbf962dad21",
   "metadata": {},
   "source": [
    "The difference between Promotions 1 and 3 is not statistically significant. The p-value was too high to indicate a meaningful difference, suggesting that the performance of the two promotions was comparable over the test period."
   ]
  },
  {
   "cell_type": "markdown",
   "id": "5a722f89-22cf-48dd-a489-b68dea06d250",
   "metadata": {},
   "source": [
    "### Promotions 2 vs 3"
   ]
  },
  {
   "cell_type": "markdown",
   "id": "4d800ddd-b279-43b6-aa50-e9b81fcd7631",
   "metadata": {},
   "source": [
    "![](2vs3.jpg)"
   ]
  },
  {
   "cell_type": "markdown",
   "id": "93aa1b18-9e44-4195-9593-f391852f060f",
   "metadata": {},
   "source": [
    "The difference between Promotions 2 and 3 is not statistically significant. Given the alpha level set for this analysis, the p-value of 0.0136 is too high to draw a strong conclusion. To establish statistical significance, the test should be conducted over a longer period or across more locations to gather more robust data."
   ]
  },
  {
   "cell_type": "markdown",
   "id": "6b6b323e-a3aa-4c12-9ecf-2c800e66e27c",
   "metadata": {},
   "source": [
    "## Decision"
   ]
  },
  {
   "cell_type": "markdown",
   "id": "3ab5e0c3-38a6-4fda-99c0-9abfc863dade",
   "metadata": {},
   "source": [
    "Based on the raw numbers, Promotion 1 appears to be performing the best. However, statistical significance was only established when comparing Promotion 1 to Promotion 2. For the other comparisons, the p-values were too high to confidently rule out the possibility that the differences occurred by chance, given the confidence level.\n",
    "\n",
    "The recommendation is to discontinue Promotion 2 in favor of either Promotion 1 or 3. However, the choice between Promotions 1 and 3 should be made by running another experiment, where these two promotion campaigns would be compared against each other."
   ]
  }
 ],
 "metadata": {
  "kernelspec": {
   "display_name": "Python 3 (ipykernel)",
   "language": "python",
   "name": "python3"
  },
  "language_info": {
   "codemirror_mode": {
    "name": "ipython",
    "version": 3
   },
   "file_extension": ".py",
   "mimetype": "text/x-python",
   "name": "python",
   "nbconvert_exporter": "python",
   "pygments_lexer": "ipython3",
   "version": "3.12.4"
  }
 },
 "nbformat": 4,
 "nbformat_minor": 5
}
